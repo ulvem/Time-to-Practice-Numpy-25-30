{
  "nbformat": 4,
  "nbformat_minor": 0,
  "metadata": {
    "colab": {
      "provenance": [],
      "include_colab_link": true
    },
    "kernelspec": {
      "name": "python3",
      "display_name": "Python 3"
    },
    "language_info": {
      "name": "python"
    }
  },
  "cells": [
    {
      "cell_type": "markdown",
      "metadata": {
        "id": "view-in-github",
        "colab_type": "text"
      },
      "source": [
        "<a href=\"https://colab.research.google.com/github/ulvem/Time-to-Practice-Numpy-25-30/blob/main/Copy_of_Time_to_Practice_Numpy_2.ipynb\" target=\"_parent\"><img src=\"https://colab.research.google.com/assets/colab-badge.svg\" alt=\"Open In Colab\"/></a>"
      ]
    },
    {
      "cell_type": "markdown",
      "source": [
        "<img height=\"180px\" src=\"https://drive.google.com/uc?export=view&id=141XOz6N4nk8Ru1sAl7vOsAToCLrSFCAX\" alt=\"SDA logo\" align=\"left\" hspace=\"30px\" vspace=\"50px\"/>\n",
        "\n",
        "# Welcome to your next notebook with SDA!\n",
        "\n",
        "During the classes we will mostly use [Google Colaboratory](https://colab.research.google.com/?hl=en) which is a free Jupyter notebook environment that requires no setup and runs entirely in the cloud.\n",
        "\n",
        "However, for bigger projects, especially involving Deep Learning and/or big data reading, it might be a better choice to setup Jupyter Notebook or Jupyter Lab on your computer. Also, it is worth noticing that there is a great number of useful extensions (see [nbextensions](https://jupyter-contrib-nbextensions.readthedocs.io/en/latest/index.html) and [jupyter-labextension](https://jupyterlab.readthedocs.io/en/stable/user/extensions.html)) not available for Colab users."
      ],
      "metadata": {
        "id": "-XWt3nPFhENg"
      }
    },
    {
      "cell_type": "markdown",
      "source": [
        "<img src=\"https://drive.google.com/uc?export=view&id=1UO2urRciECzoKE_vHy4RMGfFbkOWOGlW\" alt=\"SDA logo\" align=\"left\" width=\"100px\" hspace=\"10px\" vspace=\"10px\"/>\n",
        "<br>\n",
        "\n",
        "# TASKS"
      ],
      "metadata": {
        "id": "_pi_0qQeiZ-0"
      }
    },
    {
      "cell_type": "markdown",
      "source": [
        "<img src=\"https://drive.google.com/uc?export=view&id=141XOz6N4nk8Ru1sAl7vOsAToCLrSFCAX\" alt=\"SDA logo\" width=\"150\" align='right'/>\n",
        "<br>\n",
        "\n",
        "## Linear Algebra"
      ],
      "metadata": {
        "id": "rzZ3BUSfijKe"
      }
    },
    {
      "cell_type": "markdown",
      "source": [
        "### Please make sure that **<font color='#306998'>TASKS </font><font color='#ffd33b'>1.1 - 1.10</font>** and **<font color='#306998'>TASKS </font><font color='#ffd33b'>1.10 - 1.24</font>** are already completed :)"
      ],
      "metadata": {
        "id": "2SAWPPl8ipUl"
      }
    },
    {
      "cell_type": "markdown",
      "source": [
        "### **<font color='#306998'>TASK </font><font color='#ffd33b'>1.25</font>**\n",
        "\n",
        "For the matrix from task 1.7:\n",
        "* calculate its determinant,\n",
        "* find inverse matrix.\n",
        "\n",
        "$$\n",
        "A=\n",
        "\\begin{bmatrix}\n",
        "1 & 2 & 3 & 4 \\\\\n",
        "5 & 6 & 7 & 8 \\\\\n",
        "9 & 10 & 11 & 12 \\\\\n",
        "13 & 14 & 15 & 16\n",
        "\\end{bmatrix}\n",
        "$$"
      ],
      "metadata": {
        "id": "FquByg7fjLiz"
      }
    },
    {
      "cell_type": "markdown",
      "source": [
        "Next, change the last value to 0:\n",
        "$$\n",
        "B=\n",
        "\\begin{bmatrix}\n",
        "1 & 2 & 3 & 4 \\\\\n",
        "5 & 6 & 7 & 8 \\\\\n",
        "9 & 10 & 11 & 12 \\\\\n",
        "13 & 14 & 15 & 0\n",
        "\\end{bmatrix}\n",
        "$$"
      ],
      "metadata": {
        "id": "4RwWHLhjTsyi"
      }
    },
    {
      "cell_type": "code",
      "source": [
        "import numpy as np\n"
      ],
      "metadata": {
        "id": "PoLdLbRAXgus"
      },
      "execution_count": 2,
      "outputs": []
    },
    {
      "cell_type": "code",
      "source": [
        "#matrix A\n",
        "A = np.array([[1, 2, 3, 4], [5, 6, 7, 8], [9, 10, 11, 12], [13, 14, 15, 16]])"
      ],
      "metadata": {
        "id": "6F4ef3wCsH5R"
      },
      "execution_count": 9,
      "outputs": []
    },
    {
      "cell_type": "code",
      "source": [
        "#matrix A\n",
        "A = np.array([[1, 2, 3, 4], [5, 6, 7, 8], [9, 10, 11, 12], [13, 14, 15, 16]])\n",
        "#calculate its determinant\n",
        "det_A = np.linalg.det(A)\n",
        "print(\"Determinant of A:\", det_A)\n",
        "#find inverse matrix\n",
        "#1st check if determinant is 0\n",
        "if det_A == 0:\n",
        "  print(\"Matrix A is singular and has no inverse matrix\\pöördmaatriks.\")\n",
        "else:\n",
        "    inv_A = np.linalg.inv(A)\n",
        "    print(\"inverse of A:\\n\\pöördmaatriks:\\n\", inv_A)"
      ],
      "metadata": {
        "colab": {
          "base_uri": "https://localhost:8080/"
        },
        "id": "w3k8w3_AsvS8",
        "outputId": "9af52d27-2aca-4524-d7fe-1cb3fc9726f5"
      },
      "execution_count": 21,
      "outputs": [
        {
          "output_type": "stream",
          "name": "stdout",
          "text": [
            "Determinant of A: 0.0\n",
            "Matrix A is singular and has no inverse matrix\\pöördmaatriks.\n"
          ]
        }
      ]
    },
    {
      "cell_type": "code",
      "source": [
        "#matrix B\n",
        "B = np.array([[1, 2, 3, 4], [5, 6, 7, 8], [9, 10, 11, 12], [13, 14, 15, 0]])"
      ],
      "metadata": {
        "id": "8HQE9vp13Iv3"
      },
      "execution_count": 12,
      "outputs": []
    },
    {
      "cell_type": "code",
      "source": [
        "import numpy as np\n",
        "# Define the modified matrix B\n",
        "B = np.array([[1, 2, 3, 4], [5, 6, 7, 8], [9, 10, 11, 12], [15, 18, 21, 24]])\n",
        "# Calculate the determinant of B\n",
        "det_B = np.linalg.det(B)\n",
        "print(\"Determinant of B:\", det_B)\n",
        "# Find the inverse of B if the determinant is not zero\n",
        "if det_B == 0:\n",
        "  print(\"Matrix B is singular and has no inverse matrix.\")\n",
        "else:\n",
        "  inv_B = np.linalg.inv(B)\n",
        "  print(\"Inverse of B:\\n\", inv_B)"
      ],
      "metadata": {
        "id": "3F-VVUtCSgTA",
        "colab": {
          "base_uri": "https://localhost:8080/"
        },
        "outputId": "fa6b60d8-1d10-4881-feec-7861a908c0f7"
      },
      "execution_count": 6,
      "outputs": [
        {
          "output_type": "stream",
          "name": "stdout",
          "text": [
            "Determinant of B: 0.0\n",
            "Matrix B is singular and has no inverse matrix.\n"
          ]
        }
      ]
    },
    {
      "cell_type": "markdown",
      "source": [
        "... and try with differnt matrix:\n",
        "\n",
        "$$\n",
        "C=\n",
        "\\begin{bmatrix}\n",
        "3 & 2 & -1 & 1 \\\\\n",
        "1 & 0 & 1 & 2 \\\\\n",
        "2 & 1 & 1 & -1 \\\\\n",
        "1 & 1 & 1 & 0\n",
        "\\end{bmatrix}\n",
        "$$"
      ],
      "metadata": {
        "id": "ESJ77lr8Vm83"
      }
    },
    {
      "cell_type": "code",
      "source": [
        "c= np.array([[3, 2, -1, 1], [1, 0, 1, 2], [2, 1, 1, -1], [1, 1, 1, 0]])"
      ],
      "metadata": {
        "id": "uRtD3LwiXnMo"
      },
      "execution_count": 10,
      "outputs": []
    },
    {
      "cell_type": "code",
      "source": [
        "# Define the matrix C\n",
        "C = np.array([[3, 2, -1, 1], [1, 0, 1, 2], [2, 1, 1, -1], [1, 1, 1, 0]])\n",
        "# Calculate the determinant of C\n",
        "det_C = np.linalg.det(C)\n",
        "print(\"Determinant of C:\", det_C)\n",
        "# Find the inverse of C if the determinant is not zero\n",
        "if det_C == 0:\n",
        "  print(\"Matrix C is singular and has no inverse matrix.\")\n",
        "else: inv_C = np.linalg.inv(C)\n",
        "print(\"Inverse of C:\\n\", inv_C)"
      ],
      "metadata": {
        "colab": {
          "base_uri": "https://localhost:8080/"
        },
        "id": "sNOdmEfNaDlZ",
        "outputId": "72cc28c4-e2c6-4ac6-f129-601c500ad21a"
      },
      "execution_count": 26,
      "outputs": [
        {
          "output_type": "stream",
          "name": "stdout",
          "text": [
            "Determinant of C: -11.000000000000002\n",
            "Inverse of C:\n",
            " [[ 0.09090909  0.27272727  0.63636364 -0.81818182]\n",
            " [ 0.18181818 -0.45454545 -0.72727273  1.36363636]\n",
            " [-0.27272727  0.18181818  0.09090909  0.45454545]\n",
            " [ 0.09090909  0.27272727 -0.36363636  0.18181818]]\n"
          ]
        }
      ]
    },
    {
      "cell_type": "markdown",
      "source": [
        "**<font color='#ed7d31'>SOLVING SYSTEMS OF LINEAR EQUATIONS</font>**\n",
        "\n",
        "There are a few methods to solve systems of linear equations at a *school-level* mathematics. Although they are very effective they can require a lot of time and work, and can be especially difficult to apply to a larger number of variables. See, how you can address it with Linear Algebra.\n",
        "\n",
        "Let's consider the following system of equations:\n",
        "$$\n",
        "\\begin{cases}\n",
        "    x_1 + x_2 = 4\\\\\n",
        "    2x_1 - x_2 = 5\n",
        "\\end{cases}\n",
        "$$\n",
        "it can be written as $Ax = y,$ where\n",
        "$$\n",
        "x=\\begin{bmatrix}\n",
        "    x_1 \\\\\n",
        "    x_2\n",
        "\\end{bmatrix},\n",
        "y=\\begin{bmatrix}\n",
        "    y_1 \\\\\n",
        "    y_2\n",
        "\\end{bmatrix}=\n",
        "\\begin{bmatrix}\n",
        "    4 \\\\\n",
        "    5\n",
        "\\end{bmatrix},\n",
        "$$and\n",
        "$$\n",
        "A=\\begin{bmatrix}\n",
        "1 & 1\\\\\n",
        "2 & -1\n",
        "\\end{bmatrix}.\n",
        "$$\n",
        "If an inverse matrix $A^{-1}$ exists, you can easily solve the equation by multiplying both sides by it from the left side:\n",
        "$$\n",
        "Ax=y \\\\\n",
        "x=Ix=A^{-1} Ax=A^{-1} y\n",
        "$$\n",
        "\n",
        "\n",
        "### **<font color='#306998'>TASK </font><font color='#ffd33b'>1.26</font>**\n",
        "\n",
        "Solve the system of equations mentioned above.\n",
        "\n",
        "*Correct answer: $$x = (x_1, x_2) = (3, 1).$$*\n",
        "\n",
        "*Hint: There are functioned defined within NumPy package for both of these tasks; matrix inverse & mathematical multiplication of two matrices.*"
      ],
      "metadata": {
        "id": "6s2dqsOMYsqn"
      }
    },
    {
      "cell_type": "code",
      "source": [
        "# Define the matrix A and vector y\n",
        "A = np.array([[1, 1], [2, -1]])\n",
        "y = np.array([4, 5])\n",
        "# Calculate the inverse of A\n",
        "A_inv = np.linalg.inv(A)\n",
        "# Solve for x\n",
        "x = np.dot(A_inv, y)\n",
        "print(\"Solution:\", x)"
      ],
      "metadata": {
        "colab": {
          "base_uri": "https://localhost:8080/"
        },
        "id": "BbvVJzVnatM-",
        "outputId": "f2726da5-820f-4145-fb62-1da7ef26d25a"
      },
      "execution_count": 23,
      "outputs": [
        {
          "output_type": "stream",
          "name": "stdout",
          "text": [
            "Solution: [3. 1.]\n"
          ]
        }
      ]
    },
    {
      "cell_type": "markdown",
      "source": [],
      "metadata": {
        "id": "AfhdA3DXarDE"
      }
    },
    {
      "cell_type": "markdown",
      "source": [
        "The systems below were copied from: [Lumen: College Algebra](https://courses.lumenlearning.com/wmopen-collegealgebra/chapter/introduction-systems-of-linear-equations-three-variables/).\n",
        "\n",
        "### **<font color='#306998'>TASK </font><font color='#ffd33b'>1.27</font>**\n",
        "\n",
        "What is the solution to the system of equations below?\n",
        "\\begin{cases}\n",
        "    x_1 - 2x_2+3x_3 = 9\\\\\n",
        "    -x_1 +3x_2- x_3 = -6\\\\\n",
        "    2x_1-5x_2+5x_3=17\n",
        "\\end{cases}\n",
        "\n",
        "*Correct answer: $$x = (x_1, x_2, x_3) = (1, -1, 2).$$*"
      ],
      "metadata": {
        "id": "m9qpsjzJ8RNv"
      }
    },
    {
      "cell_type": "code",
      "source": [
        "# Define the matrix A and vector y\n",
        "A = np.array([[1, -2, 3], [-1, 3, -1], [2, -5, 5]])\n",
        "y = np.array([9, -6, 17])\n",
        "# Calculate the inverse of A\n",
        "A_inv = np.linalg.inv(A)\n",
        "# Solve for x\n",
        "x = np.dot(A_inv, y)\n",
        "print(\"Solution:\", x)"
      ],
      "metadata": {
        "colab": {
          "base_uri": "https://localhost:8080/"
        },
        "id": "iViX_a5wbr4V",
        "outputId": "9afbdfa3-44a6-47b7-da4a-1f899cf8a82a"
      },
      "execution_count": 24,
      "outputs": [
        {
          "output_type": "stream",
          "name": "stdout",
          "text": [
            "Solution: [ 1. -1.  2.]\n"
          ]
        }
      ]
    },
    {
      "cell_type": "markdown",
      "source": [
        "### **<font color='#306998'>TASK </font><font color='#ffd33b'>1.28</font>**\n",
        "\n",
        "Solve the system of equations in three variables:\n",
        "\\begin{cases}\n",
        "    2x_1 + x_2 - 2x_3 = -1\\\\\n",
        "    3x_1 - 3x_2 - x_3 = 5\\\\\n",
        "    x_1 - 2x_2 + 3x_3 = 6\n",
        "\\end{cases}\n",
        "\n",
        "*Correct answer: $$x = (x_1, x_2, x_3) = (1, -1, 1).$$*"
      ],
      "metadata": {
        "id": "ZfqOKRMJ-Ns8"
      }
    },
    {
      "cell_type": "code",
      "source": [
        "# Define the matrix A and vector B\n",
        "A = np.array([[2, 1, -2], [3, -3, -1], [1, -2, 3]])\n",
        "B = np.array([-1, 5, 6])\n",
        "# Calculate the inverse of A\n",
        "A_inv = np.linalg.inv(A)\n",
        "# Solve for X\n",
        "X = np.dot(A_inv, B)\n",
        "print(\"Solution:\", X)"
      ],
      "metadata": {
        "id": "sS_5AAj5Shdz",
        "colab": {
          "base_uri": "https://localhost:8080/"
        },
        "outputId": "1ed47e40-6826-49f9-d8bd-36a161fe3b16"
      },
      "execution_count": 19,
      "outputs": [
        {
          "output_type": "stream",
          "name": "stdout",
          "text": [
            "Solution: [ 1. -1.  1.]\n"
          ]
        }
      ]
    },
    {
      "cell_type": "markdown",
      "source": [
        "### **<font color='#306998'>TASK </font><font color='#ffd33b'>1.29</font>**\n",
        "\n",
        "Determine whether the triple $x = (x_1, x_2, x_3) = (3, -2, 1)$ is a solution to the system:\n",
        "\n",
        "\\begin{cases}\n",
        "    x_1 + x_2 + x_3 = 2\\\\\n",
        "    6x_1 - 4x_2 + 5x_3 = 31\\\\\n",
        "    5x_1 + 2x_2 + 2x_3 = 13.\n",
        "\\end{cases}\n",
        "\n",
        "*Correct answer: yes, it is.*"
      ],
      "metadata": {
        "id": "UtNQriAT-4_L"
      }
    },
    {
      "cell_type": "code",
      "source": [
        "# Define the values of triple x\n",
        "x1, x2, x3 = 3, -2, 1\n",
        "# Define the system of equations\n",
        "eq1 = x1 + x2 + x3\n",
        "eq2 = 6*x1 - 4*x2 + 5*x3\n",
        "eq3 = 5*x1 + 2*x2 + 2*x3\n",
        "# Check if the equations correct\n",
        "is_solution = (eq1 == 2) and (eq2 == 31) and (eq3 == 13)\n",
        "print(\"Is (3, -2, 1) a solution to the system of equations?\", is_solution)"
      ],
      "metadata": {
        "id": "rrlnxu9ESizf",
        "colab": {
          "base_uri": "https://localhost:8080/"
        },
        "outputId": "08455cd4-c11d-4e07-afb4-341d3a881695"
      },
      "execution_count": 18,
      "outputs": [
        {
          "output_type": "stream",
          "name": "stdout",
          "text": [
            "Is (3, -2, 1) a solution to the system of equations? True\n"
          ]
        }
      ]
    },
    {
      "cell_type": "markdown",
      "source": [
        "### **<font color='#306998'>TASK </font><font color='#ffd33b'>1.30</font>**\n",
        "\n",
        "Check whether the system solution exists:\n",
        "\n",
        "\\begin{cases}\n",
        "    x_1 - 3x_2 + x_3 = 4\\\\\n",
        "    -x_1 + 2x_2 - 5x_3 = 3\\\\\n",
        "    5x_1 - 13x_2 + 13x_3 = 8.\n",
        "\\end{cases}\n",
        "\n",
        "*Correct answer: no, it does not.*\n",
        "\n",
        "*Hint: matrix is not full-rank, i.e $rank(A) = 2 \\neq 3.$*"
      ],
      "metadata": {
        "id": "hLv_0aobBLGw"
      }
    },
    {
      "cell_type": "code",
      "source": [
        "# Define the matrix A\n",
        "A = np.array([[1, -3, 1], [-1, 2, -5], [5, -13, 13]])\n",
        "# Calculate the rank of A\n",
        "rank_A = np.linalg.matrix_rank(A)\n",
        "print(\"Rank of A:\", rank_A)\n",
        "# Check if the rank of A is equal to the number of variables\n",
        "num_variables = A.shape[1]\n",
        "has_solution = (rank_A == num_variables)\n",
        "print(\"Does the system solution exists?\", has_solution)\n"
      ],
      "metadata": {
        "id": "tna3iDXBSkCq",
        "colab": {
          "base_uri": "https://localhost:8080/"
        },
        "outputId": "e2883703-50f4-447d-b7c6-292e3f7edc3a"
      },
      "execution_count": 17,
      "outputs": [
        {
          "output_type": "stream",
          "name": "stdout",
          "text": [
            "Rank of A: 2\n",
            "Does the system solution exists? False\n"
          ]
        }
      ]
    },
    {
      "cell_type": "markdown",
      "source": [
        "### **<font color='#306998'>TASK </font><font color='#ffd33b'>1.31</font>** (optional)\n",
        "\n",
        "Find eigenvalues and eigenvectors associated with them for the following matrices:\n",
        "* $\n",
        "A_1=\\begin{bmatrix}\n",
        "-5 & 2\\\\\n",
        "-7 & 4\n",
        "\\end{bmatrix}\n",
        "$\n",
        "\n",
        "* $\n",
        "A_2=\\begin{bmatrix}\n",
        "1 & 0\\\\\n",
        "0 & -3\n",
        "\\end{bmatrix}\n",
        "$\n",
        "\n",
        "* $\n",
        "A_3=\\begin{bmatrix}\n",
        "5 & -10 & -5\\\\\n",
        "2 & 14 & 2\\\\\n",
        "-4 & -8 & 6\n",
        "\\end{bmatrix}\n",
        "$\n",
        "\n",
        "* $\n",
        "A_4=\\begin{bmatrix}\n",
        "1 & -1 & 2\\\\\n",
        "1 & 0 & -1\\\\\n",
        "1 & 1 & 2\n",
        "\\end{bmatrix}\n",
        "$\n",
        "\n",
        "Solutions can be complex numbers, $z\\in\\mathbb{C}$, as for $A_4$."
      ],
      "metadata": {
        "id": "_dhzD0xeezBG"
      }
    },
    {
      "cell_type": "code",
      "source": [
        "# Define the matrices\n",
        "A1 = np.array([[-5, -7], [2, 4]])\n",
        "A2 = np.array([[1, 0], [0, -3]])\n",
        "A3 = np.array([[5, 2, -4], [-10, 14, -8], [-5, 2, 6]])\n",
        "A4 = np.array([[1, 1, 1], [-1, 0, 1], [2, -1, 2]])\n",
        "# Calculate eigenvalues and eigenvectors\n",
        "eigvals_A1, eigvecs_A1 = np.linalg.eig(A1)\n",
        "eigvals_A2, eigvecs_A2 = np.linalg.eig(A2)\n",
        "eigvals_A3, eigvecs_A3 = np.linalg.eig(A3)\n",
        "eigvals_A4, eigvecs_A4 = np.linalg.eig(A4)\n",
        "# Print the results print(\"Eigenvalues and eigenvectors for A1:\")\n",
        "print(\"Eigenvalues:\", eigvals_A1)\n",
        "print(\"Eigenvectors:\\n\", eigvecs_A1)\n",
        "print(\"\\nEigenvalues and eigenvectors for A2:\")\n",
        "print(\"Eigenvalues:\", eigvals_A2)\n",
        "print(\"Eigenvectors:\\n\", eigvecs_A2)\n",
        "print(\"\\nEigenvalues and eigenvectors for A3:\")\n",
        "print(\"Eigenvalues:\", eigvals_A3)\n",
        "print(\"Eigenvectors:\\n\", eigvecs_A3)\n",
        "print(\"\\nEigenvalues and eigenvectors for A4:\")\n",
        "print(\"Eigenvalues:\", eigvals_A4)\n",
        "print(\"Eigenvectors:\\n\", eigvecs_A4)"
      ],
      "metadata": {
        "id": "0GMM7OlfXV0c",
        "colab": {
          "base_uri": "https://localhost:8080/"
        },
        "outputId": "78ca0a7b-329a-4f29-fc58-0e41134908b8"
      },
      "execution_count": 16,
      "outputs": [
        {
          "output_type": "stream",
          "name": "stdout",
          "text": [
            "Eigenvalues: [-3.  2.]\n",
            "Eigenvectors:\n",
            " [[-0.96152395  0.70710678]\n",
            " [ 0.27472113 -0.70710678]]\n",
            "\n",
            "Eigenvalues and eigenvectors for A2:\n",
            "Eigenvalues: [ 1. -3.]\n",
            "Eigenvectors:\n",
            " [[1. 0.]\n",
            " [0. 1.]]\n",
            "\n",
            "Eigenvalues and eigenvectors for A3:\n",
            "Eigenvalues: [ 5. 10. 10.]\n",
            "Eigenvectors:\n",
            " [[ 0.40824829  0.0872712   0.65834173]\n",
            " [ 0.81649658  0.93036596  0.18826276]\n",
            " [ 0.40824829  0.35609398 -0.72879578]]\n",
            "\n",
            "Eigenvalues and eigenvectors for A4:\n",
            "Eigenvalues: [ 3.00000000e+00+0.j         -1.11022302e-16+1.41421356j\n",
            " -1.11022302e-16-1.41421356j]\n",
            "Eigenvectors:\n",
            " [[ 4.92365964e-01+0.j   1.21295144e-16-0.5j  1.21295144e-16+0.5j]\n",
            " [ 1.23091491e-01+0.j   7.07106781e-01+0.j   7.07106781e-01-0.j ]\n",
            " [ 8.61640437e-01+0.j  -1.43583824e-17+0.5j -1.43583824e-17-0.5j]]\n"
          ]
        }
      ]
    },
    {
      "cell_type": "markdown",
      "source": [
        "<img src=\"https://drive.google.com/uc?export=view&id=141XOz6N4nk8Ru1sAl7vOsAToCLrSFCAX\" alt=\"SDA logo\" width=\"150\" align='right'/>\n",
        "<br>\n",
        "\n",
        "## Appendix: random numbers generators\n",
        "\n",
        "1. Randomly generated number(s) from normal (Gauss) distribution.\n",
        "```python\n",
        "np.random.normal()\n",
        "np.random.normal(size=6)\n",
        "```\n",
        "1. Randomly selected numbers from the uniform system.\n",
        "```python\n",
        "np.random.uniform(size=6)\n",
        "```\n",
        "1. Randomly selected number from a specific range.\n",
        "```python\n",
        "np.random.randint(3, 30, size=6)\n",
        "```\n",
        "1. Randomly selected floating-point number\n",
        "```python\n",
        "np.random.random()\n",
        "```"
      ],
      "metadata": {
        "id": "miJxoOkZ7c5y"
      }
    }
  ]
}